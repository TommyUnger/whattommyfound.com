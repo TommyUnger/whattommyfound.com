{
 "cells": [
  {
   "cell_type": "markdown",
   "metadata": {},
   "source": [
    "# County-level COVID19 analysis"
   ]
  },
  {
   "cell_type": "code",
   "execution_count": null,
   "metadata": {},
   "outputs": [],
   "source": [
    "import os\n",
    "import re\n",
    "import json\n",
    "import pandas as pd\n",
    "import numpy as np\n",
    "from sqlalchemy import create_engine\n",
    "from census import Census\n",
    "from collections import OrderedDict"
   ]
  },
  {
   "cell_type": "code",
   "execution_count": null,
   "metadata": {},
   "outputs": [],
   "source": [
    "# required env variables\n",
    "# os.environ['DB_URL']"
   ]
  },
  {
   "cell_type": "markdown",
   "metadata": {},
   "source": [
    "### Download county shape files and load into postgres database"
   ]
  },
  {
   "cell_type": "code",
   "execution_count": null,
   "metadata": {},
   "outputs": [],
   "source": [
    "!mkdir -p big-data/geo-county/\n",
    "!wget -O big-data/geo-county/tl_2019_us_county.zip https://www2.census.gov/geo/tiger/TIGER2019/COUNTY/tl_2019_us_county.zip\n",
    "!unzip big-data/geo-county/tl_2019_us_county.zip -d big-data/geo-county/\n",
    "!shp2pgsql -s 4269 big-data/geo-county/tl_2019_us_county.shp geo_us_county > big-data/geo-county/geo_us_county.sql\n",
    "!rm big-data/geo-county/tl_2019_us_county*"
   ]
  },
  {
   "cell_type": "code",
   "execution_count": null,
   "metadata": {},
   "outputs": [],
   "source": [
    "# load the data into a database\n",
    "cmd = \"cat big-data/geo-county/geo_us_county.sql | psql %s\" % os.environ['DB_URL']\n",
    "os.system(cmd)"
   ]
  },
  {
   "cell_type": "markdown",
   "metadata": {},
   "source": [
    "### Download census variables/fields and load into a database"
   ]
  },
  {
   "cell_type": "code",
   "execution_count": null,
   "metadata": {},
   "outputs": [],
   "source": [
    "!mkdir -p big-data/us-census/\n",
    "!wget -O big-data/us-census/acs5-variables.json https://api.census.gov/data/2018/acs/acs5/variables.json"
   ]
  },
  {
   "cell_type": "code",
   "execution_count": null,
   "metadata": {},
   "outputs": [],
   "source": [
    "with open('big-data/us-census/acs5-variables.json') as f:\n",
    "    acs5_data = json.load(f)\n",
    "data = []\n",
    "for k, v in acs5_data['variables'].items():\n",
    "    row = v.copy()\n",
    "    row['name'] = k\n",
    "    data.append(row)\n",
    "df = pd.DataFrame(data)\n",
    "engine = create_engine(os.environ['DB_URL'], echo=False)\n",
    "df.to_sql('us_census_field', con=engine, method='multi', index=False, if_exists='replace')"
   ]
  },
  {
   "cell_type": "markdown",
   "metadata": {},
   "source": [
    "### Load county-level US census data into postgres DB"
   ]
  },
  {
   "cell_type": "code",
   "execution_count": null,
   "metadata": {},
   "outputs": [],
   "source": [
    "c = Census(\"5fdf56abf43997adf0d8533a71dea339e4ac5974\", year=2018)\n",
    "\n",
    "fields = ('NAME',\n",
    "'B01001_001E', 'B01001_002E', 'B01001_003E', 'B01001_004E', 'B01001_005E', \n",
    "'B01001_006E', 'B01001_007E', 'B01001_008E', 'B01001_009E', 'B01001_010E', 'B01001_011E', \n",
    "'B01001_012E', 'B01001_013E', 'B01001_014E', 'B01001_015E', 'B01001_016E', 'B01001_017E', \n",
    "'B01001_018E', 'B01001_019E', 'B01001_020E', 'B01001_021E', 'B01001_022E', 'B01001_023E', \n",
    "'B01001_024E', 'B01001_025E','B01001_027E', 'B01001_028E', 'B01001_029E', 'B01001_030E', \n",
    "'B01001_031E', 'B01001_032E', 'B01001_033E', 'B01001_034E', 'B01001_035E', 'B01001_036E', \n",
    "'B01001_037E', 'B01001_038E', 'B01001_039E', 'B01001_040E', 'B01001_041E', 'B01001_042E', \n",
    "'B01001_043E', 'B01001_044E', 'B01001_045E', 'B01001_046E', 'B01001_047E', 'B01001_048E', \n",
    "'B01001_049E',\n",
    "\n",
    "'B15003_001E', 'B15003_002E', 'B15003_003E', 'B15003_004E', 'B15003_005E', \n",
    "'B15003_006E', 'B15003_007E', 'B15003_008E', 'B15003_009E', 'B15003_010E', 'B15003_011E', \n",
    "'B15003_012E', 'B15003_013E', 'B15003_014E', 'B15003_015E', 'B15003_016E', 'B15003_017E', \n",
    "'B15003_018E', 'B15003_019E', 'B15003_020E', 'B15003_021E', 'B15003_022E', 'B15003_023E', \n",
    "'B15003_024E', 'B15003_025E', \n",
    "         \n",
    "'B19101_014E', 'B19101_013E', 'B19101_012E', 'B19101_011E', 'B19101_017E', 'B19101_016E', \n",
    "'B19101_015E', 'B19101_010E', 'B19101_002E', 'B19101_001E', 'B19101_006E', 'B19101_005E',\n",
    "'B19101_004E', 'B19101_003E', 'B19101_009E', 'B19101_008E', 'B19101_007E')\n",
    "d = c.acs5.state_county(fields, Census.ALL, Census.ALL)\n",
    "data = []\n",
    "for row in d:\n",
    "    add_row = OrderedDict()\n",
    "    add_row['fips'] = row['state'] + row['county']\n",
    "    for k, v in sorted(row.items(), key=lambda x: '0' if x[0][0] != 'B' else '1' + x[0]):\n",
    "        add_row[k.lower()] = v if k[0] != 'B' else 0 if v is None else int(v)\n",
    "    data.append(add_row)\n",
    "df = pd.DataFrame(data)\n",
    "engine = create_engine(os.environ['DB_URL'], echo=False)\n",
    "df.to_sql('us_census_county_stats', con=engine, method='multi', index=False, if_exists='replace')"
   ]
  },
  {
   "cell_type": "markdown",
   "metadata": {},
   "source": [
    "#### Summarize and add percentages to census data"
   ]
  },
  {
   "cell_type": "code",
   "execution_count": null,
   "metadata": {},
   "outputs": [],
   "source": [
    "sql = \"\"\"\n",
    "DROP TABLE IF EXISTS us_census_county_summary1;\n",
    "CREATE TABLE us_census_county_summary1 AS\n",
    "SELECT fips\n",
    ", age_total\n",
    ", age_lt_20\n",
    ", age_total - (age_lt_20+age_gt_70) age_20_to_70\n",
    ", age_gt_70\n",
    "\n",
    ", edu_total\n",
    ", edu_hs\n",
    ", edu_some_college\n",
    ", edu_college\n",
    ", edu_grad\n",
    "\n",
    ", income_total\n",
    ", income_lt_30000\n",
    ", income_lt_60000\n",
    ", income_lt_100000\n",
    ", income_lt_200000\n",
    ", income_gt_200000\n",
    "\n",
    ", age_lt_20 / age_total::FLOAT age_lt_20_perc\n",
    ", (age_total - (age_lt_20+age_gt_70)) / age_total::FLOAT age_20_to_70_perc\n",
    ", age_gt_70 / age_total::FLOAT age_gt_70_perc\n",
    "\n",
    ", edu_hs / edu_total::FLOAT edu_hs_perc\n",
    ", edu_some_college / edu_total::FLOAT edu_some_college_perc\n",
    ", edu_college / edu_total::FLOAT edu_college_perc\n",
    ", edu_grad / edu_total::FLOAT edu_grad_perc\n",
    "\n",
    ", CASE WHEN income_total > 0 THEN income_lt_30000 / income_total::FLOAT END income_lt_30000_perc\n",
    ", CASE WHEN income_total > 0 THEN income_lt_60000 / income_total::FLOAT END income_lt_60000_perc\n",
    ", CASE WHEN income_total > 0 THEN income_lt_100000 / income_total::FLOAT END income_lt_100000_perc\n",
    ", CASE WHEN income_total > 0 THEN income_lt_200000 / income_total::FLOAT END income_lt_200000_perc\n",
    ", CASE WHEN income_total > 0 THEN income_gt_200000 / income_total::FLOAT END income_gt_100000_perc\n",
    "\n",
    "FROM\n",
    "(\n",
    "SELECT fips\n",
    ", B01001_001E age_total\n",
    ", B01001_022E+B01001_023E+B01001_024E+B01001_025E+B01001_046E+B01001_047E+B01001_048E+B01001_049E \"age_gt_70\"\n",
    ", B01001_003E+B01001_004E+B01001_005E+B01001_006E+B01001_007E+B01001_027E+B01001_028E+B01001_029E+B01001_030E+B01001_031E \"age_lt_20\"\n",
    ", B15003_001E edu_total\n",
    ", B15003_017E+B15003_018E edu_hs\n",
    ", B15003_019E+B15003_020E+B15003_021E edu_some_college\n",
    ", B15003_022E edu_college\n",
    ", B15003_023E+B15003_024E+B15003_025E edu_grad\n",
    ", B19101_001E income_total\n",
    ", B19101_002E+B19101_003E+B19101_004E+B19101_005E+B19101_006E income_lt_30000\n",
    ", B19101_007E+B19101_008E+B19101_009E+B19101_010E+B19101_011E income_lt_60000\n",
    ", B19101_012E+B19101_013E income_lt_100000\n",
    ", B19101_014E+B19101_015E+B19101_016E income_lt_200000\n",
    ", B19101_017E income_gt_200000\n",
    "FROM us_census_county_stats\n",
    ") t\n",
    "\"\"\"\n",
    "\n",
    "cmd = \"psql %s -c \\\"%s\\\"\" % (os.environ['DB_URL'], re.sub(r'[\\r\\n\\t]+', ' ', sql))\n",
    "os.system(cmd)\n",
    "print(\"Created table: us_census_county_summary1\")"
   ]
  },
  {
   "cell_type": "markdown",
   "metadata": {},
   "source": [
    "### County-level, daily COVID data from NYTimes"
   ]
  },
  {
   "cell_type": "code",
   "execution_count": null,
   "metadata": {},
   "outputs": [],
   "source": [
    "!wget -O big-data/us-county-covid.csv https://github.com/nytimes/covid-19-data/raw/master/us-counties.csv"
   ]
  },
  {
   "cell_type": "code",
   "execution_count": null,
   "metadata": {},
   "outputs": [],
   "source": [
    "df = pd.read_csv('big-data/us-county-covid.csv')\n",
    "df['fips'] = df['fips'].replace(np.nan, 0).apply(lambda x: str(int(x)).zfill(5))\n",
    "df.drop(['county', 'state'], axis=1, inplace=True)\n",
    "engine = create_engine(os.environ['DB_URL'], echo=False)\n",
    "df.to_sql('us_county_daily_covid_stats', con=engine, method='multi', \n",
    "          chunksize=10000, index=False, if_exists='replace')"
   ]
  },
  {
   "cell_type": "markdown",
   "metadata": {},
   "source": [
    "### Census tract geometry/shapes"
   ]
  },
  {
   "cell_type": "code",
   "execution_count": null,
   "metadata": {},
   "outputs": [],
   "source": [
    "from urllib.request import urlretrieve\n",
    "import zipfile\n",
    "for n in range(1, 58):\n",
    "    st_fips = str(n).zfill(2)\n",
    "    fn = \"tl_2019_%s_tract\" % st_fips\n",
    "    try:\n",
    "        url = \"https://www2.census.gov/geo/tiger/TIGER2019/TRACT/tl_2019_%s_tract.zip\" % st_fips\n",
    "        urlretrieve(url, fn + \".zip\")\n",
    "    except:\n",
    "        print(\"FAILED: %s\" % url)\n",
    "        continue\n",
    "    with zipfile.ZipFile(fn + \".zip\", 'r') as z:\n",
    "        for f in z.namelist():\n",
    "            z.extract(f)\n",
    "    append = \"-d\"\n",
    "    if n > 1:\n",
    "        append = \"-a\"\n",
    "    cmd = \"shp2pgsql -D %s -s 4269 %s.shp us_tract > %s.sql\" % (append, fn, fn)\n",
    "    os.system(cmd)\n",
    "    cmd = \"cat %s.sql | psql %s\" % (fn, os.environ['DB_URL'])\n",
    "    os.system(cmd)\n",
    "    print(\"loaded: %s.sql\" % fn)\n",
    "    os.system(\"rm %s.*\" % fn)\n"
   ]
  },
  {
   "cell_type": "markdown",
   "metadata": {},
   "source": [
    "### Census tract populations and household counts"
   ]
  },
  {
   "cell_type": "code",
   "execution_count": null,
   "metadata": {},
   "outputs": [],
   "source": [
    "c = Census(\"5fdf56abf43997adf0d8533a71dea339e4ac5974\", year=2010)\n",
    "fields = ('P001001', 'H001001', 'H002001', 'H002002', 'H002003', 'H002004', 'H002005', 'H002006')\n",
    "tract_file = open('tract-data.csv', 'w')\n",
    "for n in range(1, 58):\n",
    "    st_fips = str(n).zfill(2)\n",
    "    try:\n",
    "        d = c.sf1.state_county_tract(fields, st_fips, Census.ALL, Census.ALL)\n",
    "    except:\n",
    "        continue\n",
    "    print(\"%s\" % st_fips)\n",
    "    for row in d:\n",
    "        tract_file.write('%(state)s%(county)s\\t%(tract)s' % row)\n",
    "        for field in fields:\n",
    "            tract_file.write(\"\\t%s\" % int(row[field]))\n",
    "        tract_file.write(\"\\n\")\n",
    "tract_file.close()\n"
   ]
  },
  {
   "cell_type": "code",
   "execution_count": 62,
   "metadata": {},
   "outputs": [
    {
     "data": {
      "text/plain": [
       "0"
      ]
     },
     "execution_count": 62,
     "metadata": {},
     "output_type": "execute_result"
    }
   ],
   "source": [
    "sql = \"\"\"CREATE TABLE us_tract_pop(fips CHAR(5), tract VARCHAR(12), \n",
    "         P001001 INT,\n",
    "         H001001 INT,\n",
    "         H002001 INT,\n",
    "         H002002 INT,\n",
    "         H002003 INT,\n",
    "         H002004 INT,\n",
    "         H002005 INT,\n",
    "         H002006 INT\n",
    "         )\"\"\"\n",
    "cmd = \"psql %s -c \\\"%s\\\"\" % (os.environ['DB_URL'], re.sub(r'[\\r\\n\\t]+', ' ', sql))\n",
    "os.system(cmd)\n",
    "cmd = \"cat 'tract-data.csv' | psql %s -c \\\"COPY us_tract_pop FROM STDIN\\\"\" % (os.environ['DB_URL'])\n",
    "os.system(cmd)\n",
    "print(\"Created table us_tract_pop\")"
   ]
  },
  {
   "cell_type": "code",
   "execution_count": null,
   "metadata": {},
   "outputs": [],
   "source": []
  }
 ],
 "metadata": {
  "kernelspec": {
   "display_name": "Python 3",
   "language": "python",
   "name": "python3"
  },
  "language_info": {
   "codemirror_mode": {
    "name": "ipython",
    "version": 3
   },
   "file_extension": ".py",
   "mimetype": "text/x-python",
   "name": "python",
   "nbconvert_exporter": "python",
   "pygments_lexer": "ipython3",
   "version": "3.7.7"
  }
 },
 "nbformat": 4,
 "nbformat_minor": 4
}
