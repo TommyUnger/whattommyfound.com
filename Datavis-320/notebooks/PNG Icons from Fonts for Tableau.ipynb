{
 "cells": [
  {
   "cell_type": "code",
   "execution_count": null,
   "id": "65efcde4",
   "metadata": {},
   "outputs": [],
   "source": [
    "import re\n",
    "import cv2\n",
    "import os\n",
    "import numpy\n",
    "import time\n",
    "import pandas\n",
    "from IPython.display import HTML\n",
    "from PIL import Image, ImageDraw, ImageFont\n",
    "\n",
    "def cv2_to_image(img: numpy.ndarray) -> Image:\n",
    "    return Image.fromarray(cv2.cvtColor(img, cv2.COLOR_BGR2RGB))\n",
    "\n",
    "def image_to_cv2(img: Image) -> numpy.ndarray:\n",
    "    return cv2.cvtColor(numpy.array(img), cv2.COLOR_RGB2BGR)"
   ]
  },
  {
   "cell_type": "code",
   "execution_count": null,
   "id": "df835acc",
   "metadata": {},
   "outputs": [],
   "source": [
    "def save_icon(set_name, char_num, name):\n",
    "    width = 212\n",
    "    height = 212\n",
    "    f1 = ImageFont.truetype(f\"/System/Library/Fonts/Supplemental/{set_name}.ttf\", 150, encoding=\"symb\")\n",
    "    img = Image.new('RGBA', (width, height), color=(255, 255, 255, 0))\n",
    "\n",
    "    draw = ImageDraw.Draw(img)\n",
    "    draw.text((10, 10), chr(char_num), font=f1, fill=(25, 25, 25, 255))    \n",
    "    \n",
    "    gray = cv2.cvtColor(numpy.array(img), cv2.COLOR_BGR2GRAY)\n",
    "    thresh = cv2.threshold(gray, 0, 255, cv2.THRESH_BINARY_INV + cv2.THRESH_OTSU)[1]\n",
    "    try:\n",
    "        contours, _ = cv2.findContours(thresh, cv2.RETR_EXTERNAL, cv2.CHAIN_APPROX_SIMPLE)\n",
    "        x,y,w,h = cv2.boundingRect(numpy.vstack(contours))\n",
    "    except:\n",
    "        return\n",
    "    l_long = max(w, h)\n",
    "    l_short = min(w, h)\n",
    "    l_diff = l_long - l_short\n",
    "    if w > h:\n",
    "        y = int(y - l_diff / 2)\n",
    "    else:\n",
    "        x = int(x - l_diff / 2)\n",
    "    img = img.crop((x, y, x+l_long, y+l_long))\n",
    "    file_name = re.sub(r\"[^a-z0-9]+\", \"_\", name.lower())\n",
    "    shape_path = f\"Tableau-Shapes/{set_name}\"\n",
    "    if not os.path.exists(shape_path):\n",
    "        os.makedirs(shape_path)\n",
    "    img.save(f'{shape_path}/{char_num}_{file_name}.png')\n"
   ]
  },
  {
   "cell_type": "code",
   "execution_count": null,
   "id": "08401954",
   "metadata": {
    "code_folding": []
   },
   "outputs": [],
   "source": [
    "for char_set in ['Webdings', 'Wingdings', 'Wingdings 2', 'Wingdings 3']:\n",
    "    url = \"http://www.alanwood.net/demos/%s.html\" % re.sub(r\" \", \"-\", char_set.lower())\n",
    "    print(url)\n",
    "    tables = pandas.read_html(url)\n",
    "    for i, d in tables[0].iterrows():\n",
    "        print(\"%s - %s - %s\" % (char_set, int(d[1]), chr(d[1])))\n",
    "        save_icon(char_set, int(d[1]), d[3])\n"
   ]
  },
  {
   "cell_type": "code",
   "execution_count": null,
   "id": "edde5ce0",
   "metadata": {},
   "outputs": [],
   "source": []
  }
 ],
 "metadata": {
  "kernelspec": {
   "display_name": "Python 3 (ipykernel)",
   "language": "python",
   "name": "python3"
  },
  "language_info": {
   "codemirror_mode": {
    "name": "ipython",
    "version": 3
   },
   "file_extension": ".py",
   "mimetype": "text/x-python",
   "name": "python",
   "nbconvert_exporter": "python",
   "pygments_lexer": "ipython3",
   "version": "3.10.8"
  }
 },
 "nbformat": 4,
 "nbformat_minor": 5
}
