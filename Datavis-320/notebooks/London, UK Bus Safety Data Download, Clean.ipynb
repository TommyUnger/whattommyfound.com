{
 "cells": [
  {
   "cell_type": "code",
   "execution_count": 1,
   "id": "e024da40",
   "metadata": {},
   "outputs": [],
   "source": [
    "import pandas\n",
    "import sys\n",
    "import os\n",
    "sys.path.insert(0, os.getcwd().replace(\"/notebooks\", \"\"))"
   ]
  },
  {
   "cell_type": "code",
   "execution_count": 2,
   "id": "e06e65bb",
   "metadata": {},
   "outputs": [],
   "source": [
    "from data_ingest.libs.utils import download_file"
   ]
  },
  {
   "cell_type": "markdown",
   "id": "5b649f54",
   "metadata": {},
   "source": [
    "source: https://tfl.gov.uk/corporate/publications-and-reports/bus-safety-data"
   ]
  },
  {
   "cell_type": "code",
   "execution_count": 3,
   "id": "69fb5379",
   "metadata": {},
   "outputs": [],
   "source": [
    "dl_file = download_file(\"https://tfl.gov.uk/cdn/static/cms/documents/injury-details-2022-q3.csv\",\n",
    "                        \"injury-details.xlsx\")"
   ]
  },
  {
   "cell_type": "code",
   "execution_count": 4,
   "id": "204e7d5d",
   "metadata": {
    "scrolled": false
   },
   "outputs": [
    {
     "name": "stderr",
     "output_type": "stream",
     "text": [
      "/Users/tommy/source-code/tommyunger/Datavis-320/.venv/lib/python3.10/site-packages/openpyxl/styles/stylesheet.py:226: UserWarning: Workbook contains no default style, apply openpyxl's default\n",
      "  warn(\"Workbook contains no default style, apply openpyxl's default\")\n"
     ]
    }
   ],
   "source": [
    "df = pandas.read_excel(dl_file)"
   ]
  },
  {
   "cell_type": "code",
   "execution_count": 8,
   "id": "d44ffb02",
   "metadata": {},
   "outputs": [],
   "source": [
    "df.to_csv(\"bus-safety-injury-details.csv\")"
   ]
  },
  {
   "cell_type": "code",
   "execution_count": 7,
   "id": "eeabb610",
   "metadata": {
    "scrolled": true
   },
   "outputs": [
    {
     "data": {
      "text/html": [
       "<div>\n",
       "<style scoped>\n",
       "    .dataframe tbody tr th:only-of-type {\n",
       "        vertical-align: middle;\n",
       "    }\n",
       "\n",
       "    .dataframe tbody tr th {\n",
       "        vertical-align: top;\n",
       "    }\n",
       "\n",
       "    .dataframe thead th {\n",
       "        text-align: right;\n",
       "    }\n",
       "</style>\n",
       "<table border=\"1\" class=\"dataframe\">\n",
       "  <thead>\n",
       "    <tr style=\"text-align: right;\">\n",
       "      <th></th>\n",
       "      <th>Date</th>\n",
       "      <th>Route</th>\n",
       "      <th>Operator</th>\n",
       "      <th>Borough</th>\n",
       "      <th>Garage</th>\n",
       "      <th>Incident type</th>\n",
       "      <th>Injury</th>\n",
       "      <th>Injury outcome</th>\n",
       "      <th>Victim category</th>\n",
       "      <th>Age</th>\n",
       "      <th>Gender</th>\n",
       "      <th>ID</th>\n",
       "    </tr>\n",
       "  </thead>\n",
       "  <tbody>\n",
       "    <tr>\n",
       "      <th>0</th>\n",
       "      <td>2022-09-30 00:00:00</td>\n",
       "      <td>1</td>\n",
       "      <td>Go-Ahead</td>\n",
       "      <td>Southwark</td>\n",
       "      <td>MORDEN WHARF ROAD</td>\n",
       "      <td>Personal Injury Event</td>\n",
       "      <td>Yes</td>\n",
       "      <td>No treatment offered or required</td>\n",
       "      <td>Passenger / customer</td>\n",
       "      <td>Adult (18-65)</td>\n",
       "      <td>Female</td>\n",
       "      <td>233537.0</td>\n",
       "    </tr>\n",
       "    <tr>\n",
       "      <th>1</th>\n",
       "      <td>2022-09-30 00:00:00</td>\n",
       "      <td>102</td>\n",
       "      <td>Arriva London</td>\n",
       "      <td>Barnet</td>\n",
       "      <td>PALMERS GREEN</td>\n",
       "      <td>Collision</td>\n",
       "      <td>Yes</td>\n",
       "      <td>Refused treatment</td>\n",
       "      <td>Pedestrian</td>\n",
       "      <td>Adult (18-65)</td>\n",
       "      <td>Unknown</td>\n",
       "      <td>233639.0</td>\n",
       "    </tr>\n",
       "    <tr>\n",
       "      <th>2</th>\n",
       "      <td>2022-09-30 00:00:00</td>\n",
       "      <td>126</td>\n",
       "      <td>Go-Ahead</td>\n",
       "      <td>Greenwich</td>\n",
       "      <td>ORPINGTON (METROBUS)</td>\n",
       "      <td>Personal Injury Event</td>\n",
       "      <td>Yes</td>\n",
       "      <td>Refused treatment</td>\n",
       "      <td>Passenger / customer</td>\n",
       "      <td>Elderly (65+)</td>\n",
       "      <td>Female</td>\n",
       "      <td>233338.0</td>\n",
       "    </tr>\n",
       "    <tr>\n",
       "      <th>3</th>\n",
       "      <td>2022-09-30 00:00:00</td>\n",
       "      <td>162</td>\n",
       "      <td>Go-Ahead</td>\n",
       "      <td>Greenwich</td>\n",
       "      <td>ORPINGTON (METROBUS)</td>\n",
       "      <td>Slip Trip Fall</td>\n",
       "      <td>Yes</td>\n",
       "      <td>Refused treatment</td>\n",
       "      <td>Passenger / customer</td>\n",
       "      <td>Unknown</td>\n",
       "      <td>Female</td>\n",
       "      <td>233140.0</td>\n",
       "    </tr>\n",
       "    <tr>\n",
       "      <th>4</th>\n",
       "      <td>2022-09-30 00:00:00</td>\n",
       "      <td>177</td>\n",
       "      <td>Stagecoach</td>\n",
       "      <td>Greenwich</td>\n",
       "      <td>PLUMSTEAD</td>\n",
       "      <td>Personal Injury Event</td>\n",
       "      <td>Yes</td>\n",
       "      <td>Taken to hospital</td>\n",
       "      <td>Passenger / customer</td>\n",
       "      <td>Adult (18-65)</td>\n",
       "      <td>Male</td>\n",
       "      <td>233439.0</td>\n",
       "    </tr>\n",
       "  </tbody>\n",
       "</table>\n",
       "</div>"
      ],
      "text/plain": [
       "                  Date Route       Operator    Borough                Garage  \\\n",
       "0  2022-09-30 00:00:00     1       Go-Ahead  Southwark     MORDEN WHARF ROAD   \n",
       "1  2022-09-30 00:00:00   102  Arriva London     Barnet         PALMERS GREEN   \n",
       "2  2022-09-30 00:00:00   126       Go-Ahead  Greenwich  ORPINGTON (METROBUS)   \n",
       "3  2022-09-30 00:00:00   162       Go-Ahead  Greenwich  ORPINGTON (METROBUS)   \n",
       "4  2022-09-30 00:00:00   177     Stagecoach  Greenwich             PLUMSTEAD   \n",
       "\n",
       "           Incident type Injury                    Injury outcome  \\\n",
       "0  Personal Injury Event    Yes  No treatment offered or required   \n",
       "1              Collision    Yes                 Refused treatment   \n",
       "2  Personal Injury Event    Yes                 Refused treatment   \n",
       "3         Slip Trip Fall    Yes                 Refused treatment   \n",
       "4  Personal Injury Event    Yes                 Taken to hospital   \n",
       "\n",
       "        Victim category            Age   Gender        ID  \n",
       "0  Passenger / customer  Adult (18-65)   Female  233537.0  \n",
       "1            Pedestrian  Adult (18-65)  Unknown  233639.0  \n",
       "2  Passenger / customer  Elderly (65+)   Female  233338.0  \n",
       "3  Passenger / customer        Unknown   Female  233140.0  \n",
       "4  Passenger / customer  Adult (18-65)     Male  233439.0  "
      ]
     },
     "execution_count": 7,
     "metadata": {},
     "output_type": "execute_result"
    }
   ],
   "source": [
    "df.head()"
   ]
  },
  {
   "cell_type": "code",
   "execution_count": null,
   "id": "43bbebf3",
   "metadata": {},
   "outputs": [],
   "source": []
  }
 ],
 "metadata": {
  "kernelspec": {
   "display_name": "Python 3 (ipykernel)",
   "language": "python",
   "name": "python3"
  },
  "language_info": {
   "codemirror_mode": {
    "name": "ipython",
    "version": 3
   },
   "file_extension": ".py",
   "mimetype": "text/x-python",
   "name": "python",
   "nbconvert_exporter": "python",
   "pygments_lexer": "ipython3",
   "version": "3.10.8"
  }
 },
 "nbformat": 4,
 "nbformat_minor": 5
}
