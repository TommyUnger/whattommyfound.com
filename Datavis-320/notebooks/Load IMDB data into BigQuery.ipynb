{
 "cells": [
  {
   "cell_type": "code",
   "execution_count": null,
   "id": "da9b882d",
   "metadata": {},
   "outputs": [],
   "source": [
    "from importlib import reload \n",
    "import logging\n",
    "reload(logging)\n",
    "logging.basicConfig(format='%(asctime)s %(name)s.%(funcName)s: %(message)s', level=logging.INFO, datefmt='%I:%M:%S')\n",
    "from data_sources.imdb import Imdb"
   ]
  },
  {
   "cell_type": "code",
   "execution_count": null,
   "id": "96f16b9b",
   "metadata": {},
   "outputs": [],
   "source": [
    "imdb = Imdb()"
   ]
  },
  {
   "cell_type": "code",
   "execution_count": null,
   "id": "721b96f9",
   "metadata": {},
   "outputs": [],
   "source": [
    "# imdb.delete_all_tables()"
   ]
  },
  {
   "cell_type": "code",
   "execution_count": null,
   "id": "238d8341",
   "metadata": {},
   "outputs": [],
   "source": [
    "imdb.download_files()"
   ]
  },
  {
   "cell_type": "code",
   "execution_count": null,
   "id": "b473f092",
   "metadata": {},
   "outputs": [],
   "source": [
    "imdb.title_ratings()\n",
    "imdb.title_basics()\n",
    "imdb.title_episode()\n",
    "imdb.title_crew()\n",
    "imdb.title_principals()\n",
    "imdb.name_basics()\n",
    "imdb.get_more_metadata()"
   ]
  }
 ],
 "metadata": {
  "kernelspec": {
   "display_name": "Python 3 (ipykernel)",
   "language": "python",
   "name": "python3"
  },
  "language_info": {
   "codemirror_mode": {
    "name": "ipython",
    "version": 3
   },
   "file_extension": ".py",
   "mimetype": "text/x-python",
   "name": "python",
   "nbconvert_exporter": "python",
   "pygments_lexer": "ipython3",
   "version": "3.10.8"
  }
 },
 "nbformat": 4,
 "nbformat_minor": 5
}
