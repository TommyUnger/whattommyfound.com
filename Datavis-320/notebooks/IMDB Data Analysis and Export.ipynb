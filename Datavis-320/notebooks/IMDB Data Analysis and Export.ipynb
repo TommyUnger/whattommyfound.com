{
 "cells": [
  {
   "cell_type": "code",
   "execution_count": 1,
   "id": "1e748914",
   "metadata": {},
   "outputs": [],
   "source": [
    "%load_ext dotenv\n",
    "%dotenv"
   ]
  },
  {
   "cell_type": "code",
   "execution_count": 2,
   "id": "d570ddd1",
   "metadata": {},
   "outputs": [],
   "source": [
    "from google.cloud import bigquery"
   ]
  },
  {
   "cell_type": "code",
   "execution_count": 4,
   "id": "fa553f31",
   "metadata": {},
   "outputs": [],
   "source": [
    "sql = \"\"\"\n",
    "select \n",
    "b.title_type as show_type,\n",
    "b.primary_title as show_title,\n",
    "b.start_year as show_start_year,\n",
    "b.end_year as show_end_year,\n",
    "b.genre1 as show_genre_top,\n",
    "e.parent_title_id as show_id,\n",
    "e.title_id as episode_id,\n",
    "e.season_number as episode_season_number,\n",
    "et.primary_title as episode_title,\n",
    "et.start_year as episode_year,\n",
    "et.runtime_minutes as episode_runtime_minutes,\n",
    "e.episode_number as episode_number, r.average_rating as episode_rating,\n",
    "r.num_votes as episode_rating_votes,\n",
    "row_number()over(partition by e.parent_title_id order by e.season_number, e.episode_number) as show_episode_number\n",
    "from `dw-realdata.imdb.title_episode` as e\n",
    "join `dw-realdata.imdb.title_ratings` as r on r.title_id = e.title_id\n",
    "join `dw-realdata.imdb.title_basics` as b on b.title_id = e.parent_title_id\n",
    "join `dw-realdata.imdb.title_basics` as et on et.title_id = e.title_id\n",
    "\"\"\""
   ]
  },
  {
   "cell_type": "code",
   "execution_count": 5,
   "id": "9bc72118",
   "metadata": {},
   "outputs": [],
   "source": [
    "client = bigquery.Client()\n",
    "df = client.query(sql).to_dataframe()\n",
    "df.to_csv(\"local-files/imdb_show_episode_ratings.csv\", index=False)"
   ]
  },
  {
   "cell_type": "code",
   "execution_count": null,
   "id": "56582188",
   "metadata": {},
   "outputs": [],
   "source": []
  }
 ],
 "metadata": {
  "kernelspec": {
   "display_name": "Python 3 (ipykernel)",
   "language": "python",
   "name": "python3"
  },
  "language_info": {
   "codemirror_mode": {
    "name": "ipython",
    "version": 3
   },
   "file_extension": ".py",
   "mimetype": "text/x-python",
   "name": "python",
   "nbconvert_exporter": "python",
   "pygments_lexer": "ipython3",
   "version": "3.10.8"
  }
 },
 "nbformat": 4,
 "nbformat_minor": 5
}
