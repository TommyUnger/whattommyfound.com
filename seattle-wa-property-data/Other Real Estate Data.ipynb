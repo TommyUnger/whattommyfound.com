{
 "cells": [
  {
   "cell_type": "markdown",
   "metadata": {},
   "source": [
    "### Zillow neighborhood shape files"
   ]
  },
  {
   "cell_type": "code",
   "execution_count": null,
   "metadata": {},
   "outputs": [],
   "source": [
    "cd data/\n",
    "wget \"https://data.opendatasoft.com/explore/dataset/zillow-neighborhoods@public/download/?format=shp&timezone=America/Los_Angeles\"\n",
    "unzip zillow-neighborhoods.zip\n",
    "shp2pgsql -s 4269 -W latin1 -D zillow-neighborhoods.shp import.zillow_hoods > zillow_hoods.sql\n",
    "psql -U postgres -d work -f zillow_hoods.sql"
   ]
  },
  {
   "cell_type": "code",
   "execution_count": null,
   "metadata": {},
   "outputs": [],
   "source": []
  }
 ],
 "metadata": {
  "kernelspec": {
   "display_name": "Python 3",
   "language": "python",
   "name": "python3"
  },
  "language_info": {
   "codemirror_mode": {
    "name": "ipython",
    "version": 3
   },
   "file_extension": ".py",
   "mimetype": "text/x-python",
   "name": "python",
   "nbconvert_exporter": "python",
   "pygments_lexer": "ipython3",
   "version": "3.5.2"
  }
 },
 "nbformat": 4,
 "nbformat_minor": 2
}
