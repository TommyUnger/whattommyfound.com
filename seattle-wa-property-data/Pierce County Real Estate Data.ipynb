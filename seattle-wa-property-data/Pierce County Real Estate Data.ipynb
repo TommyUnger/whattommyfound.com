{
 "cells": [
  {
   "cell_type": "code",
   "execution_count": 1,
   "metadata": {},
   "outputs": [],
   "source": [
    "import os\n",
    "import pandas as pd\n",
    "from import_utils import ImportUtils\n",
    "iu = ImportUtils(os.environ[\"LOCALDB\"])"
   ]
  },
  {
   "cell_type": "code",
   "execution_count": null,
   "metadata": {},
   "outputs": [],
   "source": [
    "url = \"https://opendata.arcgis.com/datasets/7135e173c49145b18312163c1e27e3f0_0.zip?outSR=%7B%22latestWkid%22%3A2927%2C%22wkid%22%3A2927%7D\"\n",
    "iu.download_and_unzip_file(url)"
   ]
  },
  {
   "cell_type": "code",
   "execution_count": null,
   "metadata": {},
   "outputs": [],
   "source": [
    "!shp2pgsql -s 2286 -W latin1 -D data/Tax_Parcels.shp import.pierce_county_parcel_geo > data/pierce_county_parcel_geo.sql\n",
    "!psql -U postgres -d work -f data/pierce_county_parcel_geo.sql"
   ]
  },
  {
   "cell_type": "code",
   "execution_count": null,
   "metadata": {},
   "outputs": [],
   "source": [
    "!psql -U postgres -d work --tuples-only -c \"select 'DROP TYPE IF EXISTS pierce_county_landuse_type;  CREATE TYPE pierce_county_landuse_type AS ENUM (' || array_to_string(array_agg(quote_literal(dd) ORDER BY dd), ', ') || ');' from (select distinct landuse_de dd from import.pierce_county_parcel_geo) t\" > sql/create_pierce_county_enums.sql\n",
    "!psql -U postgres -d work -f sql/create_pierce_county_enums.sql"
   ]
  },
  {
   "cell_type": "code",
   "execution_count": null,
   "metadata": {},
   "outputs": [],
   "source": [
    "import_utils.run_clean_script(\"pierce_county_parcel_geo\")\n",
    "import_utils.run_sql(\"DROP TABLE import.pierce_county_parcel_geo\")\n",
    "import_utils.run_command(\"rm data/Tax_Parcels.*\")"
   ]
  },
  {
   "cell_type": "code",
   "execution_count": null,
   "metadata": {},
   "outputs": [],
   "source": [
    "iu.download_and_unzip_file(\"https://online.co.pierce.wa.us/datamart/improvement.zip\")\n",
    "iu.download_and_unzip_file(\"https://online.co.pierce.wa.us/datamart/sale.zip\")\n",
    "iu.download_and_unzip_file(\"https://online.co.pierce.wa.us/datamart/improvement_builtas.zip\")"
   ]
  },
  {
   "cell_type": "code",
   "execution_count": null,
   "metadata": {},
   "outputs": [],
   "source": [
    "iu.run_sql(open(\"sql/pierce-county/create_sale.sql\").read())\n",
    "iu.run_sql(open(\"sql/pierce-county/create_improvement.sql\").read())\n",
    "iu.run_sql(open(\"sql/pierce-county/create_improvement_builtas.sql\").read())"
   ]
  },
  {
   "cell_type": "code",
   "execution_count": null,
   "metadata": {},
   "outputs": [],
   "source": [
    "iu.load_data_from_file(\"import.pierce_sale\", \"data/sale.txt\", \"|\")\n",
    "iu.load_data_from_file(\"import.pierce_improvement\", \"data/improvement.txt\", \"|\")\n",
    "iu.load_data_from_file(\"import.pierce_improvement_builtas\", \"data/improvement_builtas.txt\", \"|\")"
   ]
  },
  {
   "cell_type": "code",
   "execution_count": 6,
   "metadata": {},
   "outputs": [
    {
     "name": "stderr",
     "output_type": "stream",
     "text": [
      "[2022-11-06 21:58:59,894] {import_utils.py:21} INFO - b'COPY 589880\\n'\n"
     ]
    }
   ],
   "source": [
    "iu.load_data_from_file(\"import.pierce_sale\", \"data/sale.txt\", \"|\")"
   ]
  },
  {
   "cell_type": "code",
   "execution_count": null,
   "metadata": {},
   "outputs": [],
   "source": [
    "import_utils.run_command(\"rm data/improvement_builtas.txt\")\n",
    "import_utils.run_command(\"rm data/improvement.txt\")\n",
    "import_utils.run_command(\"rm data/sale.txt\")"
   ]
  },
  {
   "cell_type": "code",
   "execution_count": 3,
   "metadata": {},
   "outputs": [],
   "source": [
    "df = pd.read_csv(\"data/sale.txt\", delimiter=\"|\", encoding=\"Latin-1\")"
   ]
  },
  {
   "cell_type": "code",
   "execution_count": 4,
   "metadata": {},
   "outputs": [
    {
     "data": {
      "text/plain": [
       "Index(['%016403', '1', '5555514269', '06/29/2004', '5000.00',\n",
       "       'Mobile Home Title Transfer', 'RANCHO VILLA MHC LLC',\n",
       "       'FREDERICK DORAINE C', '0', '0.1', 'Unnamed: 10', '1.1', 'Mobile Home'],\n",
       "      dtype='object')"
      ]
     },
     "execution_count": 4,
     "metadata": {},
     "output_type": "execute_result"
    }
   ],
   "source": [
    "df.columns"
   ]
  },
  {
   "cell_type": "code",
   "execution_count": null,
   "metadata": {},
   "outputs": [],
   "source": []
  }
 ],
 "metadata": {
  "kernelspec": {
   "display_name": "Python 3 (ipykernel)",
   "language": "python",
   "name": "python3"
  },
  "language_info": {
   "codemirror_mode": {
    "name": "ipython",
    "version": 3
   },
   "file_extension": ".py",
   "mimetype": "text/x-python",
   "name": "python",
   "nbconvert_exporter": "python",
   "pygments_lexer": "ipython3",
   "version": "3.10.8"
  }
 },
 "nbformat": 4,
 "nbformat_minor": 2
}
