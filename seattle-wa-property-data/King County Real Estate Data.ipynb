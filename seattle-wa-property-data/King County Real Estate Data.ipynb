{
 "cells": [
  {
   "cell_type": "code",
   "execution_count": 5,
   "metadata": {
    "scrolled": false
   },
   "outputs": [],
   "source": [
    "import os\n",
    "from import_utils import ImportUtils\n",
    "iu = ImportUtils(\"postgres://localhost/work\")"
   ]
  },
  {
   "cell_type": "code",
   "execution_count": 6,
   "metadata": {
    "scrolled": false
   },
   "outputs": [
    {
     "data": {
      "text/html": [
       "<style>.container { width:100% !important; }</style>"
      ],
      "text/plain": [
       "<IPython.core.display.HTML object>"
      ]
     },
     "metadata": {},
     "output_type": "display_data"
    }
   ],
   "source": [
    "from IPython.display import display, HTML\n",
    "display(HTML(\"<style>.container { width:100% !important; }</style>\"))"
   ]
  },
  {
   "cell_type": "markdown",
   "metadata": {},
   "source": [
    "### Setup\n",
    "Assumes a local postgresql database is created with default postgres user\n",
    "Assumes a local postgresql database called \"work\" is created and has postgis extension enabled\n",
    "\n",
    "CREATE schema import;\n",
    "CREATE schema property;"
   ]
  },
  {
   "cell_type": "markdown",
   "metadata": {},
   "source": [
    "### Load the lookup table for King County"
   ]
  },
  {
   "cell_type": "code",
   "execution_count": 7,
   "metadata": {},
   "outputs": [
    {
     "name": "stderr",
     "output_type": "stream",
     "text": [
      "[2023-02-12 12:45:32,563] {import_utils.py:33} INFO - downloading file https://aqua.kingcounty.gov/extranet/assessor/Lookup.zip\n",
      "[2023-02-12 12:45:32,631] {import_utils.py:35} INFO - unzipping file https://aqua.kingcounty.gov/extranet/assessor/Lookup.zip\n",
      "[2023-02-12 12:45:32,635] {import_utils.py:38} INFO - done https://aqua.kingcounty.gov/extranet/assessor/Lookup.zip\n",
      "[2023-02-12 12:45:32,637] {import_utils.py:60} INFO - start load_csv_to_postgres king_county_lookup\n",
      "[2023-02-12 12:45:32,638] {import_utils.py:69} INFO - create table: import.king_county_lookup\n",
      "[2023-02-12 12:45:32,638] {import_utils.py:47} INFO - running sql\n",
      "[2023-02-12 12:45:32,703] {import_utils.py:21} INFO - b'NOTICE:  table \"king_county_lookup\" does not exist, skipping\\nDROP TABLE\\nCREATE TABLE\\n'\n",
      "[2023-02-12 12:45:32,705] {import_utils.py:50} INFO - done running sql\n",
      "[2023-02-12 12:45:32,706] {import_utils.py:73} INFO - load data\n",
      "[2023-02-12 12:45:32,873] {import_utils.py:21} INFO - b'SET\\nCOPY 1212\\n'\n",
      "[2023-02-12 12:45:32,875] {import_utils.py:75} INFO - trim data\n",
      "[2023-02-12 12:45:32,876] {import_utils.py:47} INFO - running sql\n",
      "[2023-02-12 12:45:32,919] {import_utils.py:21} INFO - b'UPDATE 1212\\n'\n",
      "[2023-02-12 12:45:32,920] {import_utils.py:50} INFO - done running sql\n",
      "[2023-02-12 12:45:32,920] {import_utils.py:77} INFO - empty to null\n",
      "[2023-02-12 12:45:32,921] {import_utils.py:47} INFO - running sql\n",
      "[2023-02-12 12:45:32,945] {import_utils.py:21} INFO - b'UPDATE 1212\\n'\n",
      "[2023-02-12 12:45:32,945] {import_utils.py:50} INFO - done running sql\n",
      "[2023-02-12 12:45:32,946] {import_utils.py:80} INFO - done load_csv_to_postgres import.king_county_lookup\n",
      "[2023-02-12 12:45:32,946] {import_utils.py:47} INFO - running sql\n",
      "[2023-02-12 12:45:32,972] {import_utils.py:21} INFO - b'NOTICE:  table \"king_county_lookup\" does not exist, skipping\\nDROP TABLE\\nSELECT 1211\\nCREATE INDEX\\n'\n",
      "[2023-02-12 12:45:32,973] {import_utils.py:50} INFO - done running sql\n"
     ]
    }
   ],
   "source": [
    "iu.download_and_unzip_file(\"https://aqua.kingcounty.gov/extranet/assessor/Lookup.zip\")\n",
    "file_name = \"data/EXTR_LookUp.csv\"\n",
    "table_name = \"king_county_lookup\"\n",
    "iu.load_csv_to_postgres(table_name, file_name)\n",
    "iu.run_sql(open(\"sql/king-county/clean_lookup.sql\").read())"
   ]
  },
  {
   "cell_type": "code",
   "execution_count": 8,
   "metadata": {},
   "outputs": [
    {
     "name": "stderr",
     "output_type": "stream",
     "text": [
      "[2023-02-12 12:45:39,017] {import_utils.py:41} INFO - running sql to file sql/create_king_county_enums.sql\n",
      "[2023-02-12 12:45:39,057] {import_utils.py:21} INFO - b''\n",
      "[2023-02-12 12:45:39,058] {import_utils.py:44} INFO - done running sql\n",
      "[2023-02-12 12:45:39,059] {import_utils.py:47} INFO - running sql\n",
      "[2023-02-12 12:45:39,114] {import_utils.py:21} INFO - b'NOTICE:  type \"king_county_type_1\" does not exist, skipping\\nNOTICE:  type \"king_county_type_2\" does '\n",
      "[2023-02-12 12:45:39,114] {import_utils.py:50} INFO - done running sql\n"
     ]
    }
   ],
   "source": [
    "sql = \"\"\"select 'DROP TYPE IF EXISTS king_county_type_' || lu_type || ';\n",
    "                    CREATE TYPE king_county_type_' || lu_type || ' \n",
    "                    AS ENUM (' || array_to_string(array_agg(quote_literal(descr)  ORDER BY descr), ', ') || ');' \n",
    "                    from (SELECT DISTINCT lu_type, descr FROM property.king_county_lookup) t group by lu_type;\"\"\"\n",
    "iu.run_sql_to_file(sql, \"sql/create_king_county_enums.sql\")\n",
    "iu.run_sql(open(\"sql/create_king_county_enums.sql\").read())"
   ]
  },
  {
   "cell_type": "markdown",
   "metadata": {},
   "source": [
    "### Load King County sales transactions"
   ]
  },
  {
   "cell_type": "code",
   "execution_count": 9,
   "metadata": {},
   "outputs": [
    {
     "name": "stderr",
     "output_type": "stream",
     "text": [
      "[2023-02-12 12:45:43,745] {import_utils.py:33} INFO - downloading file https://aqua.kingcounty.gov/extranet/assessor/Real%20Property%20Sales.zip\n",
      "[2023-02-12 12:45:56,108] {import_utils.py:35} INFO - unzipping file https://aqua.kingcounty.gov/extranet/assessor/Real%20Property%20Sales.zip\n",
      "[2023-02-12 12:45:57,737] {import_utils.py:38} INFO - done https://aqua.kingcounty.gov/extranet/assessor/Real%20Property%20Sales.zip\n",
      "[2023-02-12 12:45:57,737] {import_utils.py:60} INFO - start load_csv_to_postgres king_county_sales\n",
      "[2023-02-12 12:45:57,738] {import_utils.py:69} INFO - create table: import.king_county_sales\n",
      "[2023-02-12 12:45:57,738] {import_utils.py:47} INFO - running sql\n",
      "[2023-02-12 12:45:57,798] {import_utils.py:21} INFO - b'NOTICE:  table \"king_county_sales\" does not exist, skipping\\nDROP TABLE\\nCREATE TABLE\\n'\n",
      "[2023-02-12 12:45:57,799] {import_utils.py:50} INFO - done running sql\n",
      "[2023-02-12 12:45:57,799] {import_utils.py:73} INFO - load data\n",
      "[2023-02-12 12:46:10,150] {import_utils.py:21} INFO - b'SET\\nCOPY 2269708\\n'\n",
      "[2023-02-12 12:46:10,152] {import_utils.py:75} INFO - trim data\n",
      "[2023-02-12 12:46:10,153] {import_utils.py:47} INFO - running sql\n",
      "[2023-02-12 12:46:35,673] {import_utils.py:21} INFO - b'UPDATE 2269708\\n'\n",
      "[2023-02-12 12:46:35,675] {import_utils.py:50} INFO - done running sql\n",
      "[2023-02-12 12:46:35,676] {import_utils.py:77} INFO - empty to null\n",
      "[2023-02-12 12:46:35,678] {import_utils.py:47} INFO - running sql\n",
      "[2023-02-12 12:46:54,194] {import_utils.py:21} INFO - b'UPDATE 2269708\\n'\n",
      "[2023-02-12 12:46:54,198] {import_utils.py:50} INFO - done running sql\n",
      "[2023-02-12 12:46:54,201] {import_utils.py:80} INFO - done load_csv_to_postgres import.king_county_sales\n",
      "[2023-02-12 12:46:54,207] {import_utils.py:47} INFO - running sql\n",
      "[2023-02-12 12:46:54,305] {import_utils.py:21} INFO - b'DROP TABLE\\nSELECT 1211\\nCREATE INDEX\\n'\n",
      "[2023-02-12 12:46:54,307] {import_utils.py:50} INFO - done running sql\n"
     ]
    }
   ],
   "source": [
    "iu.download_and_unzip_file(\"https://aqua.kingcounty.gov/extranet/assessor/Real%20Property%20Sales.zip\")\n",
    "file_name = \"data/EXTR_RPSale.csv\"\n",
    "table_name = \"king_county_sales\"\n",
    "iu.load_csv_to_postgres(table_name, file_name)\n",
    "iu.run_sql(open(\"sql/king-county/clean_lookup.sql\").read())"
   ]
  },
  {
   "cell_type": "code",
   "execution_count": 10,
   "metadata": {
    "scrolled": false
   },
   "outputs": [
    {
     "name": "stderr",
     "output_type": "stream",
     "text": [
      "[2023-02-12 12:47:06,937] {import_utils.py:33} INFO - downloading file https://aqua.kingcounty.gov/extranet/assessor/Residential%20Building.zip\n",
      "[2023-02-12 12:47:08,392] {import_utils.py:35} INFO - unzipping file https://aqua.kingcounty.gov/extranet/assessor/Residential%20Building.zip\n",
      "[2023-02-12 12:47:08,738] {import_utils.py:38} INFO - done https://aqua.kingcounty.gov/extranet/assessor/Residential%20Building.zip\n",
      "[2023-02-12 12:47:08,739] {import_utils.py:60} INFO - start load_csv_to_postgres king_county_building\n",
      "[2023-02-12 12:47:08,739] {import_utils.py:69} INFO - create table: import.king_county_building\n",
      "[2023-02-12 12:47:08,739] {import_utils.py:47} INFO - running sql\n",
      "[2023-02-12 12:47:08,766] {import_utils.py:21} INFO - b'NOTICE:  table \"king_county_building\" does not exist, skipping\\nDROP TABLE\\nCREATE TABLE\\n'\n",
      "[2023-02-12 12:47:08,767] {import_utils.py:50} INFO - done running sql\n",
      "[2023-02-12 12:47:08,767] {import_utils.py:73} INFO - load data\n",
      "[2023-02-12 12:47:10,352] {import_utils.py:21} INFO - b'SET\\nCOPY 524633\\n'\n",
      "[2023-02-12 12:47:10,354] {import_utils.py:75} INFO - trim data\n",
      "[2023-02-12 12:47:10,355] {import_utils.py:47} INFO - running sql\n",
      "[2023-02-12 12:47:12,647] {import_utils.py:21} INFO - b'UPDATE 524633\\n'\n",
      "[2023-02-12 12:47:12,649] {import_utils.py:50} INFO - done running sql\n",
      "[2023-02-12 12:47:12,649] {import_utils.py:77} INFO - empty to null\n",
      "[2023-02-12 12:47:12,650] {import_utils.py:47} INFO - running sql\n",
      "[2023-02-12 12:47:14,087] {import_utils.py:21} INFO - b'UPDATE 524633\\n'\n",
      "[2023-02-12 12:47:14,090] {import_utils.py:50} INFO - done running sql\n",
      "[2023-02-12 12:47:14,091] {import_utils.py:80} INFO - done load_csv_to_postgres import.king_county_building\n",
      "[2023-02-12 12:47:14,096] {import_utils.py:47} INFO - running sql\n",
      "[2023-02-12 12:47:14,783] {import_utils.py:21} INFO - b'NOTICE:  table \"king_county_building\" does not exist, skipping\\nDROP TABLE\\nSELECT 524632\\nCREATE INDEX'\n",
      "[2023-02-12 12:47:14,785] {import_utils.py:50} INFO - done running sql\n"
     ]
    }
   ],
   "source": [
    "iu.download_and_unzip_file(\"https://aqua.kingcounty.gov/extranet/assessor/Residential%20Building.zip\")\n",
    "file_name = \"data/EXTR_ResBldg.csv\"\n",
    "table_name = \"king_county_building\"\n",
    "iu.load_csv_to_postgres(table_name, file_name)\n",
    "iu.run_sql(open(\"sql/king-county/clean_building.sql\").read())"
   ]
  },
  {
   "cell_type": "code",
   "execution_count": 11,
   "metadata": {
    "scrolled": false
   },
   "outputs": [
    {
     "name": "stderr",
     "output_type": "stream",
     "text": [
      "[2023-02-12 12:47:19,361] {import_utils.py:33} INFO - downloading file https://aqua.kingcounty.gov/extranet/assessor/Apartment%20Complex.zip\n",
      "[2023-02-12 12:47:19,442] {import_utils.py:35} INFO - unzipping file https://aqua.kingcounty.gov/extranet/assessor/Apartment%20Complex.zip\n",
      "[2023-02-12 12:47:19,453] {import_utils.py:38} INFO - done https://aqua.kingcounty.gov/extranet/assessor/Apartment%20Complex.zip\n",
      "[2023-02-12 12:47:19,454] {import_utils.py:60} INFO - start load_csv_to_postgres king_county_apt_complex\n",
      "[2023-02-12 12:47:19,456] {import_utils.py:69} INFO - create table: import.king_county_apt_complex\n",
      "[2023-02-12 12:47:19,457] {import_utils.py:47} INFO - running sql\n",
      "[2023-02-12 12:47:19,498] {import_utils.py:21} INFO - b'NOTICE:  table \"king_county_apt_complex\" does not exist, skipping\\nDROP TABLE\\nCREATE TABLE\\n'\n",
      "[2023-02-12 12:47:19,499] {import_utils.py:50} INFO - done running sql\n",
      "[2023-02-12 12:47:19,500] {import_utils.py:73} INFO - load data\n",
      "[2023-02-12 12:47:19,596] {import_utils.py:21} INFO - b'SET\\nCOPY 9798\\n'\n",
      "[2023-02-12 12:47:19,598] {import_utils.py:75} INFO - trim data\n",
      "[2023-02-12 12:47:19,599] {import_utils.py:47} INFO - running sql\n",
      "[2023-02-12 12:47:19,662] {import_utils.py:21} INFO - b'UPDATE 9798\\n'\n",
      "[2023-02-12 12:47:19,663] {import_utils.py:50} INFO - done running sql\n",
      "[2023-02-12 12:47:19,664] {import_utils.py:77} INFO - empty to null\n",
      "[2023-02-12 12:47:19,664] {import_utils.py:47} INFO - running sql\n",
      "[2023-02-12 12:47:19,714] {import_utils.py:21} INFO - b'UPDATE 9798\\n'\n",
      "[2023-02-12 12:47:19,716] {import_utils.py:50} INFO - done running sql\n",
      "[2023-02-12 12:47:19,717] {import_utils.py:80} INFO - done load_csv_to_postgres import.king_county_apt_complex\n",
      "[2023-02-12 12:47:19,718] {import_utils.py:47} INFO - running sql\n",
      "[2023-02-12 12:47:19,762] {import_utils.py:21} INFO - b'NOTICE:  table \"king_county_apt_complex\" does not exist, skipping\\nDROP TABLE\\nSELECT 9797\\nCREATE INDE'\n",
      "[2023-02-12 12:47:19,762] {import_utils.py:50} INFO - done running sql\n"
     ]
    }
   ],
   "source": [
    "iu.download_and_unzip_file(\"https://aqua.kingcounty.gov/extranet/assessor/Apartment%20Complex.zip\")\n",
    "file_name = \"data/EXTR_AptComplex.csv\"\n",
    "table_name = \"king_county_apt_complex\"\n",
    "iu.load_csv_to_postgres(table_name, file_name)\n",
    "iu.run_sql(open(\"sql/king-county/clean_apt_complex.sql\").read())"
   ]
  },
  {
   "cell_type": "code",
   "execution_count": 12,
   "metadata": {},
   "outputs": [
    {
     "name": "stderr",
     "output_type": "stream",
     "text": [
      "[2023-02-12 12:47:24,467] {import_utils.py:33} INFO - downloading file https://aqua.kingcounty.gov/extranet/assessor/Commercial%20Building.zip\n",
      "[2023-02-12 12:47:24,969] {import_utils.py:35} INFO - unzipping file https://aqua.kingcounty.gov/extranet/assessor/Commercial%20Building.zip\n",
      "[2023-02-12 12:47:25,053] {import_utils.py:38} INFO - done https://aqua.kingcounty.gov/extranet/assessor/Commercial%20Building.zip\n",
      "[2023-02-12 12:47:25,053] {import_utils.py:60} INFO - start load_csv_to_postgres king_county_comm_bldg\n",
      "[2023-02-12 12:47:25,054] {import_utils.py:69} INFO - create table: import.king_county_comm_bldg\n",
      "[2023-02-12 12:47:25,054] {import_utils.py:47} INFO - running sql\n",
      "[2023-02-12 12:47:25,076] {import_utils.py:21} INFO - b'NOTICE:  table \"king_county_comm_bldg\" does not exist, skipping\\nDROP TABLE\\nCREATE TABLE\\n'\n",
      "[2023-02-12 12:47:25,077] {import_utils.py:50} INFO - done running sql\n",
      "[2023-02-12 12:47:25,077] {import_utils.py:73} INFO - load data\n",
      "[2023-02-12 12:47:25,227] {import_utils.py:21} INFO - b'SET\\nCOPY 42719\\n'\n",
      "[2023-02-12 12:47:25,228] {import_utils.py:75} INFO - trim data\n",
      "[2023-02-12 12:47:25,228] {import_utils.py:47} INFO - running sql\n",
      "[2023-02-12 12:47:25,379] {import_utils.py:21} INFO - b'UPDATE 42719\\n'\n",
      "[2023-02-12 12:47:25,380] {import_utils.py:50} INFO - done running sql\n",
      "[2023-02-12 12:47:25,381] {import_utils.py:77} INFO - empty to null\n",
      "[2023-02-12 12:47:25,381] {import_utils.py:47} INFO - running sql\n",
      "[2023-02-12 12:47:25,485] {import_utils.py:21} INFO - b'UPDATE 42719\\n'\n",
      "[2023-02-12 12:47:25,487] {import_utils.py:50} INFO - done running sql\n",
      "[2023-02-12 12:47:25,487] {import_utils.py:80} INFO - done load_csv_to_postgres import.king_county_comm_bldg\n",
      "[2023-02-12 12:47:25,490] {import_utils.py:47} INFO - running sql\n",
      "[2023-02-12 12:47:25,602] {import_utils.py:21} INFO - b'NOTICE:  table \"king_county_comm_bldg\" does not exist, skipping\\nDROP TABLE\\nSELECT 42718\\nCREATE INDEX'\n",
      "[2023-02-12 12:47:25,604] {import_utils.py:50} INFO - done running sql\n"
     ]
    }
   ],
   "source": [
    "iu.download_and_unzip_file(\"https://aqua.kingcounty.gov/extranet/assessor/Commercial%20Building.zip\")\n",
    "file_name = \"data/EXTR_CommBldg.csv\"\n",
    "table_name = \"king_county_comm_bldg\"\n",
    "iu.load_csv_to_postgres(table_name, file_name)\n",
    "iu.run_sql(open(\"sql/king-county/clean_comm_building.sql\").read())"
   ]
  },
  {
   "cell_type": "markdown",
   "metadata": {},
   "source": [
    "### King County Condos imports"
   ]
  },
  {
   "cell_type": "code",
   "execution_count": 13,
   "metadata": {},
   "outputs": [
    {
     "name": "stderr",
     "output_type": "stream",
     "text": [
      "[2023-02-12 12:47:30,612] {import_utils.py:33} INFO - downloading file https://aqua.kingcounty.gov/extranet/assessor/Condo%20Complex%20and%20Units.zip\n",
      "[2023-02-12 12:47:31,132] {import_utils.py:35} INFO - unzipping file https://aqua.kingcounty.gov/extranet/assessor/Condo%20Complex%20and%20Units.zip\n",
      "[2023-02-12 12:47:31,265] {import_utils.py:38} INFO - done https://aqua.kingcounty.gov/extranet/assessor/Condo%20Complex%20and%20Units.zip\n",
      "[2023-02-12 12:47:31,265] {import_utils.py:60} INFO - start load_csv_to_postgres king_county_condo_unit\n",
      "[2023-02-12 12:47:31,266] {import_utils.py:69} INFO - create table: import.king_county_condo_unit\n",
      "[2023-02-12 12:47:31,266] {import_utils.py:47} INFO - running sql\n",
      "[2023-02-12 12:47:31,288] {import_utils.py:21} INFO - b'NOTICE:  table \"king_county_condo_unit\" does not exist, skipping\\nDROP TABLE\\nCREATE TABLE\\n'\n",
      "[2023-02-12 12:47:31,289] {import_utils.py:50} INFO - done running sql\n",
      "[2023-02-12 12:47:31,289] {import_utils.py:73} INFO - load data\n",
      "[2023-02-12 12:47:31,648] {import_utils.py:21} INFO - b'SET\\nCOPY 107615\\n'\n",
      "[2023-02-12 12:47:31,650] {import_utils.py:75} INFO - trim data\n",
      "[2023-02-12 12:47:31,650] {import_utils.py:47} INFO - running sql\n",
      "[2023-02-12 12:47:32,078] {import_utils.py:21} INFO - b'UPDATE 107615\\n'\n",
      "[2023-02-12 12:47:32,080] {import_utils.py:50} INFO - done running sql\n",
      "[2023-02-12 12:47:32,080] {import_utils.py:77} INFO - empty to null\n",
      "[2023-02-12 12:47:32,081] {import_utils.py:47} INFO - running sql\n",
      "[2023-02-12 12:47:32,352] {import_utils.py:21} INFO - b'UPDATE 107615\\n'\n",
      "[2023-02-12 12:47:32,354] {import_utils.py:50} INFO - done running sql\n",
      "[2023-02-12 12:47:32,355] {import_utils.py:80} INFO - done load_csv_to_postgres import.king_county_condo_unit\n",
      "[2023-02-12 12:47:32,356] {import_utils.py:47} INFO - running sql\n",
      "[2023-02-12 12:47:32,668] {import_utils.py:21} INFO - b'NOTICE:  table \"king_county_condo_unit\" does not exist, skipping\\nDROP TABLE\\nSELECT 107614\\nCREATE IND'\n",
      "[2023-02-12 12:47:32,671] {import_utils.py:50} INFO - done running sql\n",
      "[2023-02-12 12:47:32,672] {import_utils.py:60} INFO - start load_csv_to_postgres king_county_condo_complex\n",
      "[2023-02-12 12:47:32,673] {import_utils.py:69} INFO - create table: import.king_county_condo_complex\n",
      "[2023-02-12 12:47:32,676] {import_utils.py:47} INFO - running sql\n",
      "[2023-02-12 12:47:32,712] {import_utils.py:21} INFO - b'NOTICE:  table \"king_county_condo_complex\" does not exist, skipping\\nDROP TABLE\\nCREATE TABLE\\n'\n",
      "[2023-02-12 12:47:32,713] {import_utils.py:50} INFO - done running sql\n",
      "[2023-02-12 12:47:32,714] {import_utils.py:73} INFO - load data\n",
      "[2023-02-12 12:47:32,740] {import_utils.py:21} INFO - b'SET\\nCOPY 3968\\n'\n",
      "[2023-02-12 12:47:32,741] {import_utils.py:75} INFO - trim data\n",
      "[2023-02-12 12:47:32,741] {import_utils.py:47} INFO - running sql\n",
      "[2023-02-12 12:47:32,767] {import_utils.py:21} INFO - b'UPDATE 3968\\n'\n",
      "[2023-02-12 12:47:32,768] {import_utils.py:50} INFO - done running sql\n",
      "[2023-02-12 12:47:32,769] {import_utils.py:77} INFO - empty to null\n",
      "[2023-02-12 12:47:32,769] {import_utils.py:47} INFO - running sql\n",
      "[2023-02-12 12:47:32,792] {import_utils.py:21} INFO - b'UPDATE 3968\\n'\n",
      "[2023-02-12 12:47:32,793] {import_utils.py:50} INFO - done running sql\n",
      "[2023-02-12 12:47:32,793] {import_utils.py:80} INFO - done load_csv_to_postgres import.king_county_condo_complex\n",
      "[2023-02-12 12:47:32,794] {import_utils.py:47} INFO - running sql\n",
      "[2023-02-12 12:47:32,820] {import_utils.py:21} INFO - b'NOTICE:  table \"king_county_condo_complex\" does not exist, skipping\\nDROP TABLE\\nSELECT 3967\\nCREATE IN'\n",
      "[2023-02-12 12:47:32,821] {import_utils.py:50} INFO - done running sql\n"
     ]
    }
   ],
   "source": [
    "iu.download_and_unzip_file(\"https://aqua.kingcounty.gov/extranet/assessor/Condo%20Complex%20and%20Units.zip\")\n",
    "\n",
    "file_name = \"data/EXTR_CondoUnit2.csv\"\n",
    "table_name = \"king_county_condo_unit\"\n",
    "iu.load_csv_to_postgres(table_name, file_name)\n",
    "iu.run_sql(open(\"sql/king-county/clean_condo_unit.sql\").read())\n",
    "\n",
    "file_name = \"data/EXTR_CondoComplex.csv\"\n",
    "table_name = \"king_county_condo_complex\"\n",
    "iu.load_csv_to_postgres(table_name, file_name)\n",
    "iu.run_sql(open(\"sql/king-county/clean_condo_complex.sql\").read())\n"
   ]
  },
  {
   "cell_type": "markdown",
   "metadata": {},
   "source": [
    "### Two approaches to King County parcels"
   ]
  },
  {
   "cell_type": "code",
   "execution_count": 14,
   "metadata": {
    "scrolled": false
   },
   "outputs": [
    {
     "name": "stderr",
     "output_type": "stream",
     "text": [
      "[2023-02-12 12:47:45,684] {import_utils.py:33} INFO - downloading file https://aqua.kingcounty.gov/extranet/assessor/Parcel.zip\n",
      "[2023-02-12 12:47:47,830] {import_utils.py:35} INFO - unzipping file https://aqua.kingcounty.gov/extranet/assessor/Parcel.zip\n",
      "[2023-02-12 12:47:48,315] {import_utils.py:38} INFO - done https://aqua.kingcounty.gov/extranet/assessor/Parcel.zip\n",
      "[2023-02-12 12:47:48,316] {import_utils.py:60} INFO - start load_csv_to_postgres king_county_parcel\n",
      "[2023-02-12 12:47:48,316] {import_utils.py:69} INFO - create table: import.king_county_parcel\n",
      "[2023-02-12 12:47:48,317] {import_utils.py:47} INFO - running sql\n",
      "[2023-02-12 12:47:48,375] {import_utils.py:21} INFO - b'NOTICE:  table \"king_county_parcel\" does not exist, skipping\\nDROP TABLE\\nCREATE TABLE\\n'\n",
      "[2023-02-12 12:47:48,375] {import_utils.py:50} INFO - done running sql\n",
      "[2023-02-12 12:47:48,376] {import_utils.py:73} INFO - load data\n",
      "[2023-02-12 12:47:53,917] {import_utils.py:21} INFO - b'SET\\nCOPY 621708\\n'\n",
      "[2023-02-12 12:47:53,924] {import_utils.py:75} INFO - trim data\n",
      "[2023-02-12 12:47:53,928] {import_utils.py:47} INFO - running sql\n",
      "[2023-02-12 12:48:01,988] {import_utils.py:21} INFO - b'UPDATE 621708\\n'\n",
      "[2023-02-12 12:48:01,991] {import_utils.py:50} INFO - done running sql\n",
      "[2023-02-12 12:48:01,992] {import_utils.py:77} INFO - empty to null\n",
      "[2023-02-12 12:48:02,001] {import_utils.py:47} INFO - running sql\n",
      "[2023-02-12 12:48:06,897] {import_utils.py:21} INFO - b'UPDATE 621708\\n'\n",
      "[2023-02-12 12:48:06,899] {import_utils.py:50} INFO - done running sql\n",
      "[2023-02-12 12:48:06,900] {import_utils.py:80} INFO - done load_csv_to_postgres import.king_county_parcel\n",
      "[2023-02-12 12:48:06,902] {import_utils.py:47} INFO - running sql\n",
      "[2023-02-12 12:48:09,269] {import_utils.py:21} INFO - b'NOTICE:  table \"king_county_parcel\" does not exist, skipping\\nDROP TABLE\\nSELECT 621707\\nCREATE INDEX\\n'\n",
      "[2023-02-12 12:48:09,271] {import_utils.py:50} INFO - done running sql\n"
     ]
    }
   ],
   "source": [
    "iu.download_and_unzip_file(\"https://aqua.kingcounty.gov/extranet/assessor/Parcel.zip\")\n",
    "file_name = \"data/EXTR_Parcel.csv\"\n",
    "table_name = \"king_county_parcel\"\n",
    "iu.load_csv_to_postgres(table_name, file_name)\n",
    "iu.run_sql(open(\"sql/king-county/clean_parcel.sql\").read())"
   ]
  },
  {
   "cell_type": "code",
   "execution_count": 15,
   "metadata": {
    "scrolled": true
   },
   "outputs": [
    {
     "name": "stderr",
     "output_type": "stream",
     "text": [
      "[2023-02-12 12:49:16,549] {import_utils.py:33} INFO - downloading file ftp://ftp.kingcounty.gov/gis-web/GISData/parcel_address.zip\n",
      "[2023-02-12 12:49:33,031] {import_utils.py:35} INFO - unzipping file ftp://ftp.kingcounty.gov/gis-web/GISData/parcel_address.zip\n",
      "[2023-02-12 12:49:36,151] {import_utils.py:38} INFO - done ftp://ftp.kingcounty.gov/gis-web/GISData/parcel_address.zip\n"
     ]
    }
   ],
   "source": [
    "iu.download_and_unzip_file(\"ftp://ftp.kingcounty.gov/gis-web/GISData/parcel_address.zip\")"
   ]
  },
  {
   "cell_type": "code",
   "execution_count": 16,
   "metadata": {},
   "outputs": [
    {
     "name": "stdout",
     "output_type": "stream",
     "text": [
      "Field siteid is an FTDouble with width 19 and precision 11\r\n",
      "Field addr_num is an FTDouble with width 10 and precision 0\r\n",
      "Field lat is an FTDouble with width 19 and precision 11\r\n",
      "Field lon is an FTDouble with width 19 and precision 11\r\n",
      "Field point_x is an FTDouble with width 19 and precision 11\r\n",
      "Field point_y is an FTDouble with width 19 and precision 11\r\n",
      "Field lotsqft is an FTDouble with width 10 and precision 0\r\n",
      "Field apprlndval is an FTDouble with width 19 and precision 11\r\n",
      "Field appr_impr is an FTDouble with width 19 and precision 11\r\n",
      "Field tax_lndval is an FTDouble with width 19 and precision 11\r\n",
      "Field tax_impr is an FTDouble with width 19 and precision 11\r\n",
      "Field kca_acres is an FTDouble with width 19 and precision 11\r\n",
      "Field shape_leng is an FTDouble with width 19 and precision 11\r\n",
      "Field shape_area is an FTDouble with width 19 and precision 11\r\n",
      "Shapefile type: Polygon\r\n",
      "Postgis type: MULTIPOLYGON[2]\r\n"
     ]
    }
   ],
   "source": [
    "!shp2pgsql -s 2285 -W latin1 -D data/parcel_address/parcel_address.shp \\\n",
    "    import.king_county_parcel_geo > data/king_county_parcel_geo.sql"
   ]
  },
  {
   "cell_type": "code",
   "execution_count": 21,
   "metadata": {},
   "outputs": [
    {
     "name": "stdout",
     "output_type": "stream",
     "text": [
      "SET\n",
      "SET\n",
      "BEGIN\n",
      "CREATE TABLE\n",
      "ALTER TABLE\n",
      "                           addgeometrycolumn                            \n",
      "------------------------------------------------------------------------\n",
      " import.king_county_parcel_geo.geom SRID:2285 TYPE:MULTIPOLYGON DIMS:2 \n",
      "(1 row)\n",
      "\n",
      "COPY 625300\n",
      "COMMIT\n",
      "ANALYZE\n"
     ]
    }
   ],
   "source": [
    "!psql \"postgresql://localhost/work\" -f data/king_county_parcel_geo.sql"
   ]
  },
  {
   "cell_type": "code",
   "execution_count": 22,
   "metadata": {},
   "outputs": [
    {
     "name": "stderr",
     "output_type": "stream",
     "text": [
      "[2023-02-12 12:53:42,578] {import_utils.py:47} INFO - running sql\n",
      "[2023-02-12 12:53:52,812] {import_utils.py:21} INFO - b'NOTICE:  table \"king_county_parcel_geo\" does not exist, skipping\\nDROP TABLE\\nSELECT 625300\\nCREATE IND'\n",
      "[2023-02-12 12:53:52,814] {import_utils.py:50} INFO - done running sql\n"
     ]
    }
   ],
   "source": [
    "iu.run_sql(open(\"sql/king-county/clean_parcel_geo.sql\").read())"
   ]
  },
  {
   "cell_type": "code",
   "execution_count": 23,
   "metadata": {},
   "outputs": [
    {
     "name": "stderr",
     "output_type": "stream",
     "text": [
      "[2023-02-12 12:56:00,740] {import_utils.py:33} INFO - downloading file https://edg.epa.gov/data/PUBLIC/OEI/ZILLOW_NEIGHBORHOODS/Zillow_Neighborhoods.zip\n",
      "[2023-02-12 12:56:14,820] {import_utils.py:35} INFO - unzipping file https://edg.epa.gov/data/PUBLIC/OEI/ZILLOW_NEIGHBORHOODS/Zillow_Neighborhoods.zip\n",
      "[2023-02-12 12:56:14,963] {import_utils.py:38} INFO - done https://edg.epa.gov/data/PUBLIC/OEI/ZILLOW_NEIGHBORHOODS/Zillow_Neighborhoods.zip\n"
     ]
    }
   ],
   "source": [
    "iu.download_and_unzip_file(\"https://edg.epa.gov/data/PUBLIC/OEI/ZILLOW_NEIGHBORHOODS/Zillow_Neighborhoods.zip\")"
   ]
  },
  {
   "cell_type": "code",
   "execution_count": null,
   "metadata": {},
   "outputs": [],
   "source": [
    "shp2pgsql -s 4269 -W latin1 -D ZillowNeighborhoods-WA.shp import.zillow_neighborhoods > zillow_neighborhoods.sql\n",
    "psql \"postgresql://localhost/work\" -f zillow_neighborhoods.sql"
   ]
  }
 ],
 "metadata": {
  "kernelspec": {
   "display_name": "Python 3 (ipykernel)",
   "language": "python",
   "name": "python3"
  },
  "language_info": {
   "codemirror_mode": {
    "name": "ipython",
    "version": 3
   },
   "file_extension": ".py",
   "mimetype": "text/x-python",
   "name": "python",
   "nbconvert_exporter": "python",
   "pygments_lexer": "ipython3",
   "version": "3.11.1"
  }
 },
 "nbformat": 4,
 "nbformat_minor": 2
}
