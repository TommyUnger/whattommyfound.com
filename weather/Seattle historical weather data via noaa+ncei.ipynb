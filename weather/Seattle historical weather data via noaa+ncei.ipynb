{
 "cells": [
  {
   "cell_type": "code",
   "execution_count": 6,
   "id": "423b3077",
   "metadata": {},
   "outputs": [],
   "source": [
    "import requests\n",
    "import pandas\n",
    "\n",
    "stations = \"USW00024233\"\n",
    "columns = \"PRCP,SNOW,TMAX,TMIN,TAVG,AWND,WSF1,WSF2,WSF5,WSFG,ACMC\"\n",
    "page = \"https://www.ncei.noaa.gov/access/services/data/v1/\"\n",
    "\n",
    "url = f\"{page}?dataset=daily-summaries&dataTypes={columns}&stations={stations}&\" \\\n",
    "      + \"startDate=1950-01-01&endDate=2021-12-31&boundingBox=90,-180,-90,180&units=standard\"\n"
   ]
  },
  {
   "cell_type": "code",
   "execution_count": 7,
   "id": "624cd5e3",
   "metadata": {},
   "outputs": [],
   "source": [
    "df = pandas.read_csv(url)"
   ]
  },
  {
   "cell_type": "code",
   "execution_count": 10,
   "id": "308bfc9b",
   "metadata": {},
   "outputs": [],
   "source": [
    "df.to_csv(\"seattle-weather-hostory.csv\")"
   ]
  }
 ],
 "metadata": {
  "kernelspec": {
   "display_name": "Python 3",
   "language": "python",
   "name": "python3"
  },
  "language_info": {
   "codemirror_mode": {
    "name": "ipython",
    "version": 3
   },
   "file_extension": ".py",
   "mimetype": "text/x-python",
   "name": "python",
   "nbconvert_exporter": "python",
   "pygments_lexer": "ipython3",
   "version": "3.8.10"
  }
 },
 "nbformat": 4,
 "nbformat_minor": 5
}
