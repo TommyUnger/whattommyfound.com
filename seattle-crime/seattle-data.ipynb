{
 "cells": [
  {
   "cell_type": "code",
   "execution_count": 26,
   "id": "ec96e97a-4b92-4dc3-942b-6a4b7acb41bb",
   "metadata": {},
   "outputs": [],
   "source": [
    "import os\n",
    "import pandas as pd\n",
    "import psycopg2\n",
    "from sqlalchemy import create_engine"
   ]
  },
  {
   "cell_type": "code",
   "execution_count": 22,
   "id": "07a17bf0-acf7-44e7-838f-b28fdd25e0d0",
   "metadata": {},
   "outputs": [],
   "source": [
    "DATABASE_URL = \"postgresql://localhost/work\"\n",
    "engine = create_engine(DATABASE_URL)\n",
    "db_cn = psycopg2.connect(DATABASE_URL)"
   ]
  },
  {
   "cell_type": "code",
   "execution_count": 33,
   "id": "4944839d-3afa-4c47-a199-bb74e9444ed7",
   "metadata": {},
   "outputs": [],
   "source": [
    "def download_file(url, local_filename):\n",
    "    full_path = f\"data/{local_filename}\"\n",
    "    if os.path.exists(full_path):\n",
    "        print(f\"{full_path} already exists. No need to download.\")\n",
    "        return\n",
    "    response = requests.get(url, stream=True)\n",
    "    response.raise_for_status()\n",
    "    with open(full_path, 'wb') as f:\n",
    "        for chunk in response.iter_content(chunk_size=8192):\n",
    "            f.write(chunk)\n",
    "    print(f\"{full_path} downloaded\")\n",
    "\n",
    "def load_csv(csv_name, table_name, db_cn):\n",
    "    if not os.path.exists(csv_name):\n",
    "        print(f\"File does not exist {csv_name}\")\n",
    "        return\n",
    "    print(f\"read csv into dataframe: {csv_name}\")\n",
    "    df = pd.read_csv(csv_name)\n",
    "    print(f\"create table: {table_name}\")\n",
    "    df[0:100].to_sql(table_name, engine, if_exists='replace', index=False, method='multi')\n",
    "    cursor = db_cn.cursor()\n",
    "    cursor.execute(f\"truncate table {table_name}\")\n",
    "    print(f\"load all data into table: {table_name}\")\n",
    "    with open(csv_name, 'r') as f:\n",
    "        cursor.copy_expert(f'COPY {table_name} FROM stdin WITH CSV HEADER', f)\n",
    "        db_cn.commit()\n"
   ]
  },
  {
   "cell_type": "code",
   "execution_count": 28,
   "id": "09b95dec-baf9-49ae-ae3e-d69a600d94c3",
   "metadata": {},
   "outputs": [
    {
     "name": "stdout",
     "output_type": "stream",
     "text": [
      "data/seattle_fire_data.csv already exists. No need to download.\n",
      "data/seattle_police_data.csv already exists. No need to download.\n"
     ]
    }
   ],
   "source": [
    "# https://data.seattle.gov/Public-Safety/Seattle-Real-Time-Fire-911-Calls/kzjm-xkqj\n",
    "# https://data.seattle.gov/Public-Safety/SPD-Crime-Data-2008-Present/tazs-3rd5\n",
    "\n",
    "SEATTLE_API_URI = \"https://data.seattle.gov/api/views/\"\n",
    "SEATTLE_API_PARMS = \"accessType=DOWNLOAD&bom=true&format=true\"\n",
    "download_file(f\"{SEATTLE_API_URI}kzjm-xkqj/rows.csv?{SEATTLE_API_PARMS}\", \"seattle_fire_data.csv\")\n",
    "download_file(f\"{SEATTLE_API_URI}tazs-3rd5/rows.csv?{SEATTLE_API_PARMS}\", \"seattle_police_data.csv\")"
   ]
  },
  {
   "cell_type": "code",
   "execution_count": 32,
   "id": "978168a9-cdea-47b7-8aa5-5826555d8241",
   "metadata": {},
   "outputs": [],
   "source": [
    "load_csv(\"data/seattle_police_data.csv\", \"seattle_police_data\", psycopg2.connect(DATABASE_URL))"
   ]
  },
  {
   "cell_type": "code",
   "execution_count": null,
   "id": "b8ddf809-6ade-488c-8349-171be91bdb30",
   "metadata": {},
   "outputs": [],
   "source": []
  }
 ],
 "metadata": {
  "kernelspec": {
   "display_name": "Python 3 (ipykernel)",
   "language": "python",
   "name": "python3"
  },
  "language_info": {
   "codemirror_mode": {
    "name": "ipython",
    "version": 3
   },
   "file_extension": ".py",
   "mimetype": "text/x-python",
   "name": "python",
   "nbconvert_exporter": "python",
   "pygments_lexer": "ipython3",
   "version": "3.11.5"
  }
 },
 "nbformat": 4,
 "nbformat_minor": 5
}
