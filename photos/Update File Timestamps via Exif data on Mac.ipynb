{
 "cells": [
  {
   "cell_type": "code",
   "execution_count": null,
   "id": "d65580a9",
   "metadata": {},
   "outputs": [],
   "source": [
    "import exiftool\n",
    "import glob\n",
    "import os\n",
    "import datetime\n",
    "from subprocess import call\n",
    "from PIL import Image"
   ]
  },
  {
   "cell_type": "code",
   "execution_count": null,
   "id": "5442d551",
   "metadata": {},
   "outputs": [],
   "source": [
    "et = exiftool.ExifToolHelper()"
   ]
  },
  {
   "cell_type": "code",
   "execution_count": null,
   "id": "f4cd6083",
   "metadata": {},
   "outputs": [],
   "source": [
    "files = []\n",
    "for f in glob.glob(\"/Volumes/One Touch/photos/**\", recursive=True):\n",
    "    files.append(f)"
   ]
  },
  {
   "cell_type": "code",
   "execution_count": null,
   "id": "14ab8f61",
   "metadata": {},
   "outputs": [],
   "source": [
    "def exif_to_datetime(dd):\n",
    "    if dd is None:\n",
    "        return None\n",
    "    try:\n",
    "        return datetime.datetime.strptime(dd, '%Y:%m:%d %H:%M:%S')\n",
    "    except:\n",
    "        return None\n",
    "\n",
    "path_dates = {}\n",
    "files_processed = 0\n",
    "for i, file in enumerate(files):\n",
    "    if os.path.isfile(file) == False:\n",
    "        continue\n",
    "    if '2021' not in file:\n",
    "        continue\n",
    "    dir_path = os.path.dirname(file)\n",
    "#     if dir_path in path_dates:\n",
    "#         continue\n",
    "    md = et.get_metadata(file)\n",
    "    d0 = exif_to_datetime(md[0].get(\"EXIF:DateTimeOriginal\"))\n",
    "    d1 = exif_to_datetime(md[0].get(\"QuickTime:CreateDate\"))\n",
    "    dt = None\n",
    "    if d0:\n",
    "        dt = d0.strftime(\"%m/%d/%Y %H:%M:%S\")\n",
    "    elif d1:\n",
    "        dt = d1.strftime(\"%m/%d/%Y %H:%M:%S\")\n",
    "    if dt:\n",
    "        if dir_path not in path_dates:\n",
    "            path_dates[dir_path] = dt\n",
    "            fd = {\"date\": dt, \"file\": dir_path}\n",
    "            cmd = 'SetFile -m \"%(date)s\" -d \"%(date)s\" \"%(file)s\"' % fd\n",
    "            print(cmd)\n",
    "            call(cmd, shell=True)\n",
    "        \n",
    "        fd = {\"date\": dt, \"file\": file}\n",
    "        cmd = 'SetFile -m \"%(date)s\" -d \"%(date)s\" \"%(file)s\"' % fd\n",
    "        print(cmd)\n",
    "        call(cmd, shell=True)\n",
    "        files_processed += 1\n"
   ]
  },
  {
   "cell_type": "code",
   "execution_count": null,
   "id": "1c03a20d",
   "metadata": {},
   "outputs": [],
   "source": [
    "len(path_dates)"
   ]
  },
  {
   "cell_type": "code",
   "execution_count": null,
   "id": "31dbe00f",
   "metadata": {},
   "outputs": [],
   "source": []
  }
 ],
 "metadata": {
  "kernelspec": {
   "display_name": "Python 3 (ipykernel)",
   "language": "python",
   "name": "python3"
  },
  "language_info": {
   "codemirror_mode": {
    "name": "ipython",
    "version": 3
   },
   "file_extension": ".py",
   "mimetype": "text/x-python",
   "name": "python",
   "nbconvert_exporter": "python",
   "pygments_lexer": "ipython3",
   "version": "3.8.4"
  }
 },
 "nbformat": 4,
 "nbformat_minor": 5
}
