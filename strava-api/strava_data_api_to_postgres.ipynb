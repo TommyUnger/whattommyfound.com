{
 "cells": [
  {
   "cell_type": "markdown",
   "metadata": {},
   "source": [
    "# Moving data from the Strava API to a PostgreSQL database\n",
    "\n",
    "Before you do anything here, you need to do a few initial steps:\n",
    "\n",
    "1. Install flask, psycopg2, and requests python libraries\n",
    "2. Have access to a postgres database `brew install postgres` on a Mac\n",
    "3. Have access to a Stava API account https://www.strava.com/settings/api\n",
    "4. Set up the proper values in `app-config.json` (from steps 1 and 2)\n",
    "5. Run `python strava.py` at the command line to set up the API Oath token\n"
   ]
  },
  {
   "cell_type": "code",
   "execution_count": null,
   "metadata": {},
   "outputs": [],
   "source": [
    "import re\n",
    "import time\n",
    "import os\n",
    "import json\n",
    "import requests\n",
    "import pandas as pd\n",
    "import sqlalchemy\n",
    "import psycopg2\n",
    "import psycopg2.extras\n",
    "\n",
    "from sqlalchemy import create_engine\n",
    "from stravaio import StravaIO"
   ]
  },
  {
   "cell_type": "code",
   "execution_count": null,
   "metadata": {},
   "outputs": [],
   "source": [
    "# if you haven't refreshed in 6 hours, you need to do this.\n",
    "strava.refresh_token()"
   ]
  },
  {
   "cell_type": "markdown",
   "metadata": {},
   "source": [
    "### Get all activities and load into the database"
   ]
  },
  {
   "cell_type": "code",
   "execution_count": null,
   "metadata": {},
   "outputs": [],
   "source": [
    "page = 1\n",
    "activities = []\n",
    "while True:\n",
    "    url = f'https://www.strava.com/api/v3/athlete/activities?page={page}&per_page=100'\n",
    "    r = requests.get(url, headers=strava.get_auth_headers())\n",
    "    res = json.loads(r.text)\n",
    "    if len(res) > 0:\n",
    "        print(\"activity count: %s\" % len(res))\n",
    "        activities += res\n",
    "    else:\n",
    "        break\n",
    "    page += 1\n",
    "df = pd.json_normalize(activities)\n",
    "df[['start_lat','start_lon']] = pd.DataFrame(df.start_latlng.tolist(), index=df.index)\n",
    "df[['end_lat','end_lon']] = pd.DataFrame(df.end_latlng.tolist(), index=df.index)\n",
    "df.to_pickle('activities.pickle')\n",
    "\n",
    "db = create_engine(os.environ(\"PGDB\"), echo=False)\n",
    "df.to_sql(schema='strava', name='activity', con=db, index=False, if_exists='replace',\n",
    "          method='multi', dtype={\"athlete\": sqlalchemy.types.JSON,\n",
    "                                 \"map\": sqlalchemy.types.JSON,\n",
    "                                 \"start_latlng\": sqlalchemy.types.JSON,\n",
    "                                 \"end_latlng\": sqlalchemy.types.JSON\n",
    "                                 })\n"
   ]
  },
  {
   "cell_type": "markdown",
   "metadata": {},
   "source": [
    "### Get activity details (streams in Strava), for previously download activities and load into database "
   ]
  },
  {
   "cell_type": "code",
   "execution_count": null,
   "metadata": {},
   "outputs": [],
   "source": [
    "routes = {}"
   ]
  },
  {
   "cell_type": "code",
   "execution_count": null,
   "metadata": {
    "scrolled": true
   },
   "outputs": [],
   "source": [
    "headers = strava.get_auth_headers()\n",
    "\n",
    "for num, activity in enumerate(activities):\n",
    "    if num % 20 == 0:\n",
    "        print(\"|%s|\" % activity['name'])\n",
    "    r = requests.get('https://www.strava.com/api/v3/activities/%s/streams?keys=%s&key_by_type=%s' % (\n",
    "        activity['id'],\n",
    "        \"time,latlng,distance,altitude,velocity_smooth,heartrate,temp,moving,grade_smooth,watts\",\n",
    "        \"true\"\n",
    "        ), headers=headers)\n",
    "    data = json.loads(r.text)\n",
    "    try:\n",
    "        if 'time' not in data.keys():\n",
    "            print(data)\n",
    "        routes[activity[\"id\"]] = data\n",
    "    except:\n",
    "        print(\"Something failed terribly!\")\n",
    "        break\n",
    "    time.sleep(10)\n"
   ]
  },
  {
   "cell_type": "code",
   "execution_count": null,
   "metadata": {},
   "outputs": [],
   "source": [
    "print(\"put routes together\")\n",
    "dfs = []\n",
    "for activity_id, route in routes.items():\n",
    "    col_data = {}\n",
    "    try:\n",
    "        for col, route_data in route.items():\n",
    "            col_data[col] = route_data['data']\n",
    "    except:\n",
    "        print(\"%s: %s\" % (activity_id, col))\n",
    "    col_data[\"activity_id\"] = activity_id\n",
    "    try:\n",
    "        dfs.append(pd.DataFrame.from_dict(col_data))\n",
    "    except:\n",
    "        print(route['id'])\n",
    "print(\"concat routes together\")\n",
    "df = pd.concat(dfs)\n",
    "df['lat'] = df.latlng.apply(lambda x: x[0] if type(x) == list else -1)\n",
    "df['lon'] = df.latlng.apply(lambda x: x[1] if type(x) == list else -1)\n",
    "df.drop(['latlng'], axis=1, inplace=True)\n",
    "print(\"write to db\")\n",
    "db = create_engine(os.environ(\"PGDB\"), echo=False)\n",
    "df.to_csv('activity_detail.txt', sep=\"\\t\", header=False, index=False)\n",
    "df.head(10).to_sql(schema='strava', name='activity_detail', con=db, index=False, chunksize=100, method='multi')\n",
    "print(\"done\")"
   ]
  },
  {
   "cell_type": "markdown",
   "metadata": {},
   "source": [
    "Need to remove all records from strava.activity_detail, then bulk import\n",
    "\n",
    "```\n",
    "psql \"$PGDB\" -c \"truncate table strava.activity_detail;\"\n",
    "cat activity_detail.txt | psql \"$PGDB\" -c \"copy strava.activity_detail from stdin null ''\"\n",
    "```"
   ]
  },
  {
   "cell_type": "markdown",
   "metadata": {},
   "source": [
    "### Export letters to json so that it can be consumed by a website."
   ]
  },
  {
   "cell_type": "code",
   "execution_count": null,
   "metadata": {},
   "outputs": [],
   "source": [
    "conn = psycopg2.connect(os.environ(\"PGDB\"))\n",
    "\n",
    "cur = conn.cursor(cursor_factory = psycopg2.extras.RealDictCursor)\n",
    "sql = \"\"\"\n",
    "with points as(\n",
    "select activity_id, json_agg(array[lat, lon]) as ll\n",
    "from strava.activity_detail\n",
    "group by 1\n",
    ")\n",
    "\n",
    ", d as(\n",
    "select id, distance, moving_time, elapsed_time, total_elevation_gain\n",
    ", type, sport_type, start_date_local, achievement_count, average_speed\n",
    ", max_speed, average_temp, average_heartrate, elev_high, elev_low\n",
    ", trim(a.name) as letter, ll\n",
    "from strava.activity a\n",
    "join points p on a.id = p.activity_id\n",
    "where length(a.name) <= 2\n",
    ")\n",
    "\n",
    "select *\n",
    "from d\n",
    "order by \"letter\"\n",
    "\"\"\"\n",
    "cur.execute(sql)\n",
    "row = cur.fetchone()\n",
    "letters = {}\n",
    "fw = open(\"letters.json\", \"w\")\n",
    "fw.write(\"{\")\n",
    "while row is not None:\n",
    "    fw.write(\"%s:%s\" % (json.dumps(row[\"letter\"]), json.dumps(row)))\n",
    "    row = cur.fetchone()\n",
    "    if row is not None:\n",
    "        fw.write(\",\\n\")\n",
    "fw.write(\"}\")\n",
    "fw.close()\n"
   ]
  }
 ],
 "metadata": {
  "kernelspec": {
   "display_name": "Python 3 (ipykernel)",
   "language": "python",
   "name": "python3"
  },
  "language_info": {
   "codemirror_mode": {
    "name": "ipython",
    "version": 3
   },
   "file_extension": ".py",
   "mimetype": "text/x-python",
   "name": "python",
   "nbconvert_exporter": "python",
   "pygments_lexer": "ipython3",
   "version": "3.10.8"
  }
 },
 "nbformat": 4,
 "nbformat_minor": 2
}
