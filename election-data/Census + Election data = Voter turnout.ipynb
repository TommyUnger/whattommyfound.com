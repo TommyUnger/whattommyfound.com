{
 "cells": [
  {
   "cell_type": "code",
   "execution_count": null,
   "metadata": {},
   "outputs": [],
   "source": [
    "import pandas as pd\n",
    "import re\n",
    "import censusdata"
   ]
  },
  {
   "cell_type": "code",
   "execution_count": null,
   "metadata": {},
   "outputs": [],
   "source": [
    "file_name = '2016_US_County_Level_Presidential_Results.csv'\n",
    "url = 'https://raw.githubusercontent.com/tonmcg/US_County_Level_Election_Results_08-16/master/%s' % file_name\n",
    "df_elect_2016_county = pd.read_csv(url)\n",
    "df_elect_2016_county.rename(columns={\"combined_fips\": \"fips\"}, inplace=True)\n"
   ]
  },
  {
   "cell_type": "code",
   "execution_count": null,
   "metadata": {},
   "outputs": [],
   "source": [
    "cols = []\n",
    "for d in censusdata.search('acs1', 2016, 'concept', '^sex by age$'):\n",
    "    print(','.join(d))\n",
    "    cols.append(d[0])"
   ]
  },
  {
   "cell_type": "code",
   "execution_count": null,
   "metadata": {},
   "outputs": [],
   "source": [
    "df_county = censusdata.download('acs5', 2016, censusdata.censusgeo([('county', '*')]), cols)"
   ]
  },
  {
   "cell_type": "code",
   "execution_count": null,
   "metadata": {},
   "outputs": [],
   "source": [
    "df_county['voting_age_men'] = df_county.iloc[:,6:24].sum(axis=1)\n",
    "df_county['voting_age_women'] = df_county.iloc[:,30:48].sum(axis=1)"
   ]
  },
  {
   "cell_type": "code",
   "execution_count": 74,
   "metadata": {},
   "outputs": [],
   "source": [
    "df_county['fips'] = df_county.index.to_series().apply(lambda x: \"%05d\" % int(x.params()[0][1] + x.params()[1][1]))"
   ]
  },
  {
   "cell_type": "code",
   "execution_count": 76,
   "metadata": {},
   "outputs": [],
   "source": [
    "df_elect_2016_county['fips'] = df_elect_2016_county['fips'].apply(lambda x: \"%05d\" % x)"
   ]
  },
  {
   "cell_type": "code",
   "execution_count": 79,
   "metadata": {},
   "outputs": [],
   "source": [
    "df = pd.merge(\n",
    "    df_elect_2016_county[['votes_dem', 'votes_gop', 'total_votes', 'state_abbr', 'county_name', 'fips']],\n",
    "    df_county[['voting_age_men', 'voting_age_women', 'fips']],\n",
    "    on=['fips'])"
   ]
  },
  {
   "cell_type": "code",
   "execution_count": 80,
   "metadata": {},
   "outputs": [],
   "source": [
    "df['turnout'] = df['total_votes'] / (df['voting_age_men'] + df['voting_age_women'])"
   ]
  },
  {
   "cell_type": "code",
   "execution_count": 81,
   "metadata": {},
   "outputs": [],
   "source": [
    "df.to_csv('voter-turnout.csv', index=False)"
   ]
  },
  {
   "cell_type": "code",
   "execution_count": null,
   "metadata": {},
   "outputs": [],
   "source": []
  }
 ],
 "metadata": {
  "kernelspec": {
   "display_name": "Python 3",
   "language": "python",
   "name": "python3"
  },
  "language_info": {
   "codemirror_mode": {
    "name": "ipython",
    "version": 3
   },
   "file_extension": ".py",
   "mimetype": "text/x-python",
   "name": "python",
   "nbconvert_exporter": "python",
   "pygments_lexer": "ipython3",
   "version": "3.7.7"
  }
 },
 "nbformat": 4,
 "nbformat_minor": 4
}
